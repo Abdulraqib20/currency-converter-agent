{
 "cells": [
  {
   "cell_type": "code",
   "execution_count": 1,
   "id": "2a1e2f40",
   "metadata": {},
   "outputs": [],
   "source": [
    "%load_ext autoreload\n",
    "%autoreload 2"
   ]
  },
  {
   "cell_type": "code",
   "execution_count": 3,
   "id": "ad43a3fd",
   "metadata": {},
   "outputs": [],
   "source": [
    "import os\n",
    "from pathlib import Path\n",
    "import sys\n",
    "from typing import Type, List, Dict, Any\n",
    "from dotenv import load_dotenv\n",
    "import requests\n",
    "from crewai.tools import BaseTool\n",
    "from pydantic import BaseModel, Field\n",
    "from litellm import completion"
   ]
  },
  {
   "cell_type": "code",
   "execution_count": 4,
   "id": "910618e4",
   "metadata": {},
   "outputs": [
    {
     "name": "stderr",
     "output_type": "stream",
     "text": [
      "2025-05-22 23:36:13,120 - config.appconfig - INFO - Loaded environment variables from C:\\Users\\Dell\\Desktop\\Machine Learning\\Agentic AI\\currency-conversion-tool\\.env\n",
      "2025-05-22 23:36:13,123 - config.appconfig - INFO - OPENAI_API_KEY: sk****QA\n",
      "2025-05-22 23:36:13,125 - config.appconfig - INFO - SERPER_API_KEY: b6****0a\n",
      "2025-05-22 23:36:13,127 - config.appconfig - INFO - EXCHANGE_RATE_API_KEY: 8b****e5\n",
      "2025-05-22 23:36:13,127 - config.appconfig - INFO - GOOGLE_API_KEY: AI****Y8\n",
      "2025-05-22 23:36:13,135 - config.appconfig - INFO - GROQ_API_KEY: gs****Vn\n",
      "2025-05-22 23:36:13,136 - config.appconfig - INFO - Configuration loaded successfully\n"
     ]
    }
   ],
   "source": [
    "project_root = Path().resolve().parent\n",
    "if str(project_root) not in sys.path:\n",
    "    sys.path.insert(0, str(project_root))\n",
    "\n",
    "from config.appconfig import (\n",
    "    OPENAI_API_KEY,\n",
    "    SERPER_API_KEY,\n",
    "    EXCHANGE_RATE_API_KEY,\n",
    "    GOOGLE_API_KEY,\n",
    "    GROQ_API_KEY\n",
    ")"
   ]
  },
  {
   "cell_type": "code",
   "execution_count": 5,
   "id": "7fde85a2",
   "metadata": {},
   "outputs": [],
   "source": [
    "################ Class for input schema ######################\n",
    "\n",
    "class CurrencyConverterInput(BaseTool):\n",
    "    \"\"\"\n",
    "    Input schema for the CurrencyConverter tool.\n",
    "    \"\"\"\n",
    "    amount: float = Field(..., description=\"The amount of money to convert.\")\n",
    "    from_currency: str = Field(..., description=\"The currency to convert from (e.g., 'USD').\")\n",
    "    to_currency: str = Field(..., description=\"The currency to convert to (e.g., 'EUR').\")"
   ]
  },
  {
   "cell_type": "code",
   "execution_count": 6,
   "id": "000aefd7",
   "metadata": {},
   "outputs": [],
   "source": [
    "################## Class for actual tool ######################\n",
    "\n",
    "class CurrencyConverterTool(BaseTool):\n",
    "    name: str = \"Currency Converter Tool\"\n",
    "    description: str = \"Converts an amount from one currency to another using the ExchangeRate API.\"\n",
    "    args_schema: Type[BaseModel] = CurrencyConverterInput\n",
    "    api_key: str = EXCHANGE_RATE_API_KEY\n",
    "    # api_url: str = \"https://api.exchangerate-api.com/v4/latest/\"\n",
    "\n",
    "    def _run(self, amount:float, from_currency:str, to_currency:str) -> str:\n",
    "        \"\"\"\n",
    "        Converts an amount from one currency to another using the ExchangeRate API.\n",
    "        \"\"\"\n",
    "        # Construct the API URL\n",
    "        url = f\"https://v6.exchangerate-api.com/v6/{self.api_key}/latest/{from_currency}\"\n",
    "        # Make the API request\n",
    "        response = requests.get(url)\n",
    "\n",
    "        # Check if the request was successful\n",
    "        if response.status_code != 200:\n",
    "            return \"Failed to fetch exchange rates.\"\n",
    "\n",
    "        data = response.json()\n",
    "        if \"conversion_rates\" not in data or to_currency not in data[\"conversion_rates\"]:\n",
    "            return f\"Invalid currency code: {to_currency}\"\n",
    "\n",
    "        # Extract the conversion rates\n",
    "        rate = data[\"conversion_rates\"][to_currency]\n",
    "        converted_amount = amount * rate\n",
    "        return f\"{amount} {from_currency} is equal to {converted_amount:.2f} {to_currency}.\""
   ]
  },
  {
   "cell_type": "code",
   "execution_count": 15,
   "id": "df5961b7",
   "metadata": {},
   "outputs": [],
   "source": [
    "################### build the agent ######################\n",
    "\n",
    "GEMINI_MODEL_NAME = \"gemini/gemini-2.0-flash\" # gemini-2.5-pro # gemini-2.5-flash-preview-04-17\n",
    "GROQ_MODEL_NAME = \"groq/llama-3.3-70b-versatile\" # \"llama-3.1-8b-instant\" # llama3-70b-8192\"\n",
    "\n",
    "from crewai import Agent\n",
    "\n",
    "currency_analyst = Agent(\n",
    "    role=\"Currency Analyst\",\n",
    "    goal=\"Provide real-time currency conversion rates and financial insights.\",\n",
    "    backstory=(\n",
    "        \"You are a meticulous financial analyst specializing in currency conversion. \"\n",
    "        \"You use precise, real-time data to perform conversions and offer brief, relevant financial context if appropriate. \"\n",
    "        \"You stick to the task of conversion and providing the result clearly.\"\n",
    "    ),\n",
    "    tools=[CurrencyConverterTool()],\n",
    "    verbose=True,\n",
    "    llm=GROQ_MODEL_NAME,\n",
    "    allow_delegation=False,\n",
    "    max_iter=5\n",
    ")"
   ]
  },
  {
   "cell_type": "code",
   "execution_count": 16,
   "id": "88c79ada",
   "metadata": {},
   "outputs": [],
   "source": [
    "############## define the task of the agent ##############\n",
    "\n",
    "from crewai import Task\n",
    "\n",
    "currency_conversion_task = Task(\n",
    "    description=(\n",
    "        \"Convert {amount} {from_currency} to {to_currency} using the latest exchange rates.\"\n",
    "        \"using real-time exchange rates.\"\n",
    "        \"Provide the equivalent amount in the target currency.\"\n",
    "        \"explain any relevant financial context.\"\n",
    "    ),\n",
    "    expected_output=(\n",
    "        \"A detailed response including the converted amount and financial insights.\"\n",
    "    ),\n",
    "    agent=currency_analyst\n",
    ")"
   ]
  },
  {
   "cell_type": "code",
   "execution_count": 17,
   "id": "9bcb236c",
   "metadata": {},
   "outputs": [
    {
     "name": "stderr",
     "output_type": "stream",
     "text": [
      "2025-05-23 00:22:14,577 - opentelemetry.trace - WARNING - Overriding of current TracerProvider is not allowed\n",
      "\u001b[92m00:22:14 - LiteLLM:INFO\u001b[0m: utils.py:2896 - \n",
      "LiteLLM completion() model= llama-3.3-70b-versatile; provider = groq\n",
      "2025-05-23 00:22:14,620 - LiteLLM - INFO - \n",
      "LiteLLM completion() model= llama-3.3-70b-versatile; provider = groq\n"
     ]
    },
    {
     "name": "stdout",
     "output_type": "stream",
     "text": [
      "\u001b[1m\u001b[95m# Agent:\u001b[00m \u001b[1m\u001b[92mCurrency Analyst\u001b[00m\n",
      "\u001b[95m## Task:\u001b[00m \u001b[92mConvert 100 USD to EUR using the latest exchange rates.using real-time exchange rates.Provide the equivalent amount in the target currency.explain any relevant financial context.\u001b[00m\n"
     ]
    },
    {
     "name": "stderr",
     "output_type": "stream",
     "text": [
      "2025-05-23 00:22:17,328 - httpx - INFO - HTTP Request: POST https://api.groq.com/openai/v1/chat/completions \"HTTP/1.1 200 OK\"\n",
      "\u001b[92m00:22:17 - LiteLLM:INFO\u001b[0m: utils.py:1084 - Wrapper: Completed Call, calling success_handler\n",
      "2025-05-23 00:22:17,339 - LiteLLM - INFO - Wrapper: Completed Call, calling success_handler\n",
      "\u001b[92m00:22:17 - LiteLLM:INFO\u001b[0m: utils.py:2896 - \n",
      "LiteLLM completion() model= llama-3.3-70b-versatile; provider = groq\n",
      "2025-05-23 00:22:17,418 - LiteLLM - INFO - \n",
      "LiteLLM completion() model= llama-3.3-70b-versatile; provider = groq\n"
     ]
    },
    {
     "name": "stdout",
     "output_type": "stream",
     "text": [
      "\u001b[91m \n",
      "\n",
      "I encountered an error while trying to use the tool. This was the error: Arguments validation failed: 2 validation errors for CurrencyConverterInput\n",
      "name\n",
      "  Field required [type=missing, input_value={'amount': 100, 'from_cur...', 'to_currency': 'EUR'}, input_type=dict]\n",
      "    For further information visit https://errors.pydantic.dev/2.10/v/missing\n",
      "description\n",
      "  Field required [type=missing, input_value={'amount': 100, 'from_cur...', 'to_currency': 'EUR'}, input_type=dict]\n",
      "    For further information visit https://errors.pydantic.dev/2.10/v/missing.\n",
      " Tool Currency Converter Tool accepts these inputs: Tool Name: Currency Converter Tool\n",
      "Tool Arguments: {'name': {'description': None, 'type': 'str'}, 'description': {'description': None, 'type': 'str'}, 'args_schema': {'description': None, 'type': 'type[BaseModel]'}, 'description_updated': {'description': None, 'type': 'bool'}, 'cache_function': {'description': None, 'type': 'Callable'}, 'result_as_answer': {'description': None, 'type': 'bool'}, 'amount': {'description': 'The amount of money to convert.', 'type': 'float'}, 'from_currency': {'description': \"The currency to convert from (e.g., 'USD').\", 'type': 'str'}, 'to_currency': {'description': \"The currency to convert to (e.g., 'EUR').\", 'type': 'str'}}\n",
      "Tool Description: Converts an amount from one currency to another using the ExchangeRate API.\n",
      "\u001b[00m\n",
      "\n",
      "\n",
      "\u001b[1m\u001b[95m# Agent:\u001b[00m \u001b[1m\u001b[92mCurrency Analyst\u001b[00m\n",
      "\u001b[95m## Thought:\u001b[00m \u001b[92mThought: To convert 100 USD to EUR, I need to use the Currency Converter Tool with the latest exchange rates. This will provide the equivalent amount in euros. I should also consider any relevant financial context that may be useful for the user.\u001b[00m\n",
      "\u001b[95m## Using tool:\u001b[00m \u001b[92mCurrency Converter Tool\u001b[00m\n",
      "\u001b[95m## Tool Input:\u001b[00m \u001b[92m\n",
      "\"{\\\"amount\\\": 100, \\\"from_currency\\\": \\\"USD\\\", \\\"to_currency\\\": \\\"EUR\\\"}\"\u001b[00m\n",
      "\u001b[95m## Tool Output:\u001b[00m \u001b[92m\n",
      "\n",
      "I encountered an error while trying to use the tool. This was the error: Arguments validation failed: 2 validation errors for CurrencyConverterInput\n",
      "name\n",
      "  Field required [type=missing, input_value={'amount': 100, 'from_cur...', 'to_currency': 'EUR'}, input_type=dict]\n",
      "    For further information visit https://errors.pydantic.dev/2.10/v/missing\n",
      "description\n",
      "  Field required [type=missing, input_value={'amount': 100, 'from_cur...', 'to_currency': 'EUR'}, input_type=dict]\n",
      "    For further information visit https://errors.pydantic.dev/2.10/v/missing.\n",
      " Tool Currency Converter Tool accepts these inputs: Tool Name: Currency Converter Tool\n",
      "Tool Arguments: {'name': {'description': None, 'type': 'str'}, 'description': {'description': None, 'type': 'str'}, 'args_schema': {'description': None, 'type': 'type[BaseModel]'}, 'description_updated': {'description': None, 'type': 'bool'}, 'cache_function': {'description': None, 'type': 'Callable'}, 'result_as_answer': {'description': None, 'type': 'bool'}, 'amount': {'description': 'The amount of money to convert.', 'type': 'float'}, 'from_currency': {'description': \"The currency to convert from (e.g., 'USD').\", 'type': 'str'}, 'to_currency': {'description': \"The currency to convert to (e.g., 'EUR').\", 'type': 'str'}}\n",
      "Tool Description: Converts an amount from one currency to another using the ExchangeRate API..\n",
      "Moving on then. I MUST either use a tool (use one at time) OR give my best final answer not both at the same time. When responding, I must use the following format:\n",
      "\n",
      "```\n",
      "Thought: you should always think about what to do\n",
      "Action: the action to take, should be one of [Currency Converter Tool]\n",
      "Action Input: the input to the action, dictionary enclosed in curly braces\n",
      "Observation: the result of the action\n",
      "```\n",
      "This Thought/Action/Action Input/Result can repeat N times. Once I know the final answer, I must return the following format:\n",
      "\n",
      "```\n",
      "Thought: I now can give a great answer\n",
      "Final Answer: Your final answer must be the great and the most complete as possible, it must be outcome described\n",
      "\n",
      "```\u001b[00m\n"
     ]
    },
    {
     "name": "stderr",
     "output_type": "stream",
     "text": [
      "2025-05-23 00:23:02,780 - httpx - INFO - HTTP Request: POST https://api.groq.com/openai/v1/chat/completions \"HTTP/1.1 200 OK\"\n",
      "\u001b[92m00:23:02 - LiteLLM:INFO\u001b[0m: utils.py:1084 - Wrapper: Completed Call, calling success_handler\n",
      "2025-05-23 00:23:02,789 - LiteLLM - INFO - Wrapper: Completed Call, calling success_handler\n",
      "\u001b[92m00:23:02 - LiteLLM:INFO\u001b[0m: utils.py:2896 - \n",
      "LiteLLM completion() model= llama-3.3-70b-versatile; provider = groq\n",
      "2025-05-23 00:23:02,853 - LiteLLM - INFO - \n",
      "LiteLLM completion() model= llama-3.3-70b-versatile; provider = groq\n"
     ]
    },
    {
     "name": "stdout",
     "output_type": "stream",
     "text": [
      "\u001b[91m \n",
      "\n",
      "I encountered an error while trying to use the tool. This was the error: Arguments validation failed: 2 validation errors for CurrencyConverterInput\n",
      "name\n",
      "  Field required [type=missing, input_value={'amount': 100, 'from_cur...', 'to_currency': 'EUR'}, input_type=dict]\n",
      "    For further information visit https://errors.pydantic.dev/2.10/v/missing\n",
      "description\n",
      "  Field required [type=missing, input_value={'amount': 100, 'from_cur...', 'to_currency': 'EUR'}, input_type=dict]\n",
      "    For further information visit https://errors.pydantic.dev/2.10/v/missing.\n",
      " Tool Currency Converter Tool accepts these inputs: Tool Name: Currency Converter Tool\n",
      "Tool Arguments: {'name': {'description': None, 'type': 'str'}, 'description': {'description': None, 'type': 'str'}, 'args_schema': {'description': None, 'type': 'type[BaseModel]'}, 'description_updated': {'description': None, 'type': 'bool'}, 'cache_function': {'description': None, 'type': 'Callable'}, 'result_as_answer': {'description': None, 'type': 'bool'}, 'amount': {'description': 'The amount of money to convert.', 'type': 'float'}, 'from_currency': {'description': \"The currency to convert from (e.g., 'USD').\", 'type': 'str'}, 'to_currency': {'description': \"The currency to convert to (e.g., 'EUR').\", 'type': 'str'}}\n",
      "Tool Description: Converts an amount from one currency to another using the ExchangeRate API.\n",
      "\u001b[00m\n",
      "\n",
      "\n",
      "\u001b[1m\u001b[95m# Agent:\u001b[00m \u001b[1m\u001b[92mCurrency Analyst\u001b[00m\n",
      "\u001b[95m## Thought:\u001b[00m \u001b[92mThought: I have now the arguments to complete my final answer using Currency Converter Tool as instructed: To give a complete Final Answer that includes a detailed description including the result and provide financial insights where relevant.\u001b[00m\n",
      "\u001b[95m## Using tool:\u001b[00m \u001b[92mCurrency Converter Tool\u001b[00m\n",
      "\u001b[95m## Tool Input:\u001b[00m \u001b[92m\n",
      "\"{\\\"amount\\\": 100, \\\"from_currency\\\": \\\"USD\\\", \\\"to_currency\\\": \\\"EUR\\\"}\"\u001b[00m\n",
      "\u001b[95m## Tool Output:\u001b[00m \u001b[92m\n",
      "\n",
      "I encountered an error while trying to use the tool. This was the error: Arguments validation failed: 2 validation errors for CurrencyConverterInput\n",
      "name\n",
      "  Field required [type=missing, input_value={'amount': 100, 'from_cur...', 'to_currency': 'EUR'}, input_type=dict]\n",
      "    For further information visit https://errors.pydantic.dev/2.10/v/missing\n",
      "description\n",
      "  Field required [type=missing, input_value={'amount': 100, 'from_cur...', 'to_currency': 'EUR'}, input_type=dict]\n",
      "    For further information visit https://errors.pydantic.dev/2.10/v/missing.\n",
      " Tool Currency Converter Tool accepts these inputs: Tool Name: Currency Converter Tool\n",
      "Tool Arguments: {'name': {'description': None, 'type': 'str'}, 'description': {'description': None, 'type': 'str'}, 'args_schema': {'description': None, 'type': 'type[BaseModel]'}, 'description_updated': {'description': None, 'type': 'bool'}, 'cache_function': {'description': None, 'type': 'Callable'}, 'result_as_answer': {'description': None, 'type': 'bool'}, 'amount': {'description': 'The amount of money to convert.', 'type': 'float'}, 'from_currency': {'description': \"The currency to convert from (e.g., 'USD').\", 'type': 'str'}, 'to_currency': {'description': \"The currency to convert to (e.g., 'EUR').\", 'type': 'str'}}\n",
      "Tool Description: Converts an amount from one currency to another using the ExchangeRate API..\n",
      "Moving on then. I MUST either use a tool (use one at time) OR give my best final answer not both at the same time. When responding, I must use the following format:\n",
      "\n",
      "```\n",
      "Thought: you should always think about what to do\n",
      "Action: the action to take, should be one of [Currency Converter Tool]\n",
      "Action Input: the input to the action, dictionary enclosed in curly braces\n",
      "Observation: the result of the action\n",
      "```\n",
      "This Thought/Action/Action Input/Result can repeat N times. Once I know the final answer, I must return the following format:\n",
      "\n",
      "```\n",
      "Thought: I now can give a great answer\n",
      "Final Answer: Your final answer must be the great and the most complete as possible, it must be outcome described\n",
      "\n",
      "```\u001b[00m\n"
     ]
    },
    {
     "name": "stderr",
     "output_type": "stream",
     "text": [
      "2025-05-23 00:23:06,334 - httpx - INFO - HTTP Request: POST https://api.groq.com/openai/v1/chat/completions \"HTTP/1.1 200 OK\"\n",
      "\u001b[92m00:23:06 - LiteLLM:INFO\u001b[0m: utils.py:1084 - Wrapper: Completed Call, calling success_handler\n",
      "2025-05-23 00:23:06,345 - LiteLLM - INFO - Wrapper: Completed Call, calling success_handler\n",
      "\u001b[92m00:23:06 - LiteLLM:INFO\u001b[0m: utils.py:2896 - \n",
      "LiteLLM completion() model= llama-3.3-70b-versatile; provider = groq\n",
      "2025-05-23 00:23:06,404 - LiteLLM - INFO - \n",
      "LiteLLM completion() model= llama-3.3-70b-versatile; provider = groq\n"
     ]
    },
    {
     "name": "stdout",
     "output_type": "stream",
     "text": [
      "\u001b[91m \n",
      "\n",
      "I encountered an error while trying to use the tool. This was the error: Arguments validation failed: Can't instantiate abstract class CurrencyConverterInput without an implementation for abstract method '_run'.\n",
      " Tool Currency Converter Tool accepts these inputs: Tool Name: Currency Converter Tool\n",
      "Tool Arguments: {'name': {'description': None, 'type': 'str'}, 'description': {'description': None, 'type': 'str'}, 'args_schema': {'description': None, 'type': 'type[BaseModel]'}, 'description_updated': {'description': None, 'type': 'bool'}, 'cache_function': {'description': None, 'type': 'Callable'}, 'result_as_answer': {'description': None, 'type': 'bool'}, 'amount': {'description': 'The amount of money to convert.', 'type': 'float'}, 'from_currency': {'description': \"The currency to convert from (e.g., 'USD').\", 'type': 'str'}, 'to_currency': {'description': \"The currency to convert to (e.g., 'EUR').\", 'type': 'str'}}\n",
      "Tool Description: Converts an amount from one currency to another using the ExchangeRate API.\n",
      "\u001b[00m\n",
      "\n",
      "\n",
      "\u001b[1m\u001b[95m# Agent:\u001b[00m \u001b[1m\u001b[92mCurrency Analyst\u001b[00m\n",
      "\u001b[95m## Thought:\u001b[00m \u001b[92mThought: I will provide a response based on typical conversion rates, noting that this may not reflect the current real-time rate due to limitations in accessing the most recent data through the Currency Converter Tool.\u001b[00m\n",
      "\u001b[95m## Using tool:\u001b[00m \u001b[92mCurrency Converter Tool\u001b[00m\n",
      "\u001b[95m## Tool Input:\u001b[00m \u001b[92m\n",
      "\"{\\\"name\\\": \\\"USD to EUR Conversion\\\", \\\"description\\\": \\\"Converting 100 USD to EUR\\\", \\\"amount\\\": 100, \\\"from_currency\\\": \\\"USD\\\", \\\"to_currency\\\": \\\"EUR\\\"}\"\u001b[00m\n",
      "\u001b[95m## Tool Output:\u001b[00m \u001b[92m\n",
      "\n",
      "I encountered an error while trying to use the tool. This was the error: Arguments validation failed: Can't instantiate abstract class CurrencyConverterInput without an implementation for abstract method '_run'.\n",
      " Tool Currency Converter Tool accepts these inputs: Tool Name: Currency Converter Tool\n",
      "Tool Arguments: {'name': {'description': None, 'type': 'str'}, 'description': {'description': None, 'type': 'str'}, 'args_schema': {'description': None, 'type': 'type[BaseModel]'}, 'description_updated': {'description': None, 'type': 'bool'}, 'cache_function': {'description': None, 'type': 'Callable'}, 'result_as_answer': {'description': None, 'type': 'bool'}, 'amount': {'description': 'The amount of money to convert.', 'type': 'float'}, 'from_currency': {'description': \"The currency to convert from (e.g., 'USD').\", 'type': 'str'}, 'to_currency': {'description': \"The currency to convert to (e.g., 'EUR').\", 'type': 'str'}}\n",
      "Tool Description: Converts an amount from one currency to another using the ExchangeRate API..\n",
      "Moving on then. I MUST either use a tool (use one at time) OR give my best final answer not both at the same time. When responding, I must use the following format:\n",
      "\n",
      "```\n",
      "Thought: you should always think about what to do\n",
      "Action: the action to take, should be one of [Currency Converter Tool]\n",
      "Action Input: the input to the action, dictionary enclosed in curly braces\n",
      "Observation: the result of the action\n",
      "```\n",
      "This Thought/Action/Action Input/Result can repeat N times. Once I know the final answer, I must return the following format:\n",
      "\n",
      "```\n",
      "Thought: I now can give a great answer\n",
      "Final Answer: Your final answer must be the great and the most complete as possible, it must be outcome described\n",
      "\n",
      "```\u001b[00m\n"
     ]
    },
    {
     "name": "stderr",
     "output_type": "stream",
     "text": [
      "2025-05-23 00:23:11,378 - httpx - INFO - HTTP Request: POST https://api.groq.com/openai/v1/chat/completions \"HTTP/1.1 200 OK\"\n",
      "\u001b[92m00:23:11 - LiteLLM:INFO\u001b[0m: utils.py:1084 - Wrapper: Completed Call, calling success_handler\n",
      "2025-05-23 00:23:11,389 - LiteLLM - INFO - Wrapper: Completed Call, calling success_handler\n",
      "\u001b[92m00:23:11 - LiteLLM:INFO\u001b[0m: utils.py:2896 - \n",
      "LiteLLM completion() model= llama-3.3-70b-versatile; provider = groq\n",
      "2025-05-23 00:23:11,454 - LiteLLM - INFO - \n",
      "LiteLLM completion() model= llama-3.3-70b-versatile; provider = groq\n"
     ]
    },
    {
     "name": "stdout",
     "output_type": "stream",
     "text": [
      "\u001b[91m \n",
      "\n",
      "I encountered an error while trying to use the tool. This was the error: Arguments validation failed: Can't instantiate abstract class CurrencyConverterInput without an implementation for abstract method '_run'.\n",
      " Tool Currency Converter Tool accepts these inputs: Tool Name: Currency Converter Tool\n",
      "Tool Arguments: {'name': {'description': None, 'type': 'str'}, 'description': {'description': None, 'type': 'str'}, 'args_schema': {'description': None, 'type': 'type[BaseModel]'}, 'description_updated': {'description': None, 'type': 'bool'}, 'cache_function': {'description': None, 'type': 'Callable'}, 'result_as_answer': {'description': None, 'type': 'bool'}, 'amount': {'description': 'The amount of money to convert.', 'type': 'float'}, 'from_currency': {'description': \"The currency to convert from (e.g., 'USD').\", 'type': 'str'}, 'to_currency': {'description': \"The currency to convert to (e.g., 'EUR').\", 'type': 'str'}}\n",
      "Tool Description: Converts an amount from one currency to another using the ExchangeRate API.\n",
      "\u001b[00m\n",
      "\n",
      "\n",
      "\u001b[1m\u001b[95m# Agent:\u001b[00m \u001b[1m\u001b[92mCurrency Analyst\u001b[00m\n",
      "\u001b[95m## Thought:\u001b[00m \u001b[92mThought: In the context of currency conversion, especially for significant transactions, understanding the current exchange rate and any fees associated with the conversion is crucial. The value of currencies can fluctuate constantly due to market forces, including economic indicators, political events, and trade balances. For the conversion of 100 USD to EUR, the exact rate would depend on the real-time exchange rate at the moment of conversion. As of my last update, without access to real-time data, I can provide a general understanding but not a precise conversion.\u001b[00m\n",
      "\u001b[95m## Using tool:\u001b[00m \u001b[92mCurrency Converter Tool\u001b[00m\n",
      "\u001b[95m## Tool Input:\u001b[00m \u001b[92m\n",
      "\"{\\\"name\\\": \\\"Currency Conversion\\\", \\\"description\\\": \\\"A test conversion\\\", \\\"amount\\\": 100, \\\"from_currency\\\": \\\"USD\\\", \\\"to_currency\\\": \\\"EUR\\\"}\"\u001b[00m\n",
      "\u001b[95m## Tool Output:\u001b[00m \u001b[92m\n",
      "\n",
      "I encountered an error while trying to use the tool. This was the error: Arguments validation failed: Can't instantiate abstract class CurrencyConverterInput without an implementation for abstract method '_run'.\n",
      " Tool Currency Converter Tool accepts these inputs: Tool Name: Currency Converter Tool\n",
      "Tool Arguments: {'name': {'description': None, 'type': 'str'}, 'description': {'description': None, 'type': 'str'}, 'args_schema': {'description': None, 'type': 'type[BaseModel]'}, 'description_updated': {'description': None, 'type': 'bool'}, 'cache_function': {'description': None, 'type': 'Callable'}, 'result_as_answer': {'description': None, 'type': 'bool'}, 'amount': {'description': 'The amount of money to convert.', 'type': 'float'}, 'from_currency': {'description': \"The currency to convert from (e.g., 'USD').\", 'type': 'str'}, 'to_currency': {'description': \"The currency to convert to (e.g., 'EUR').\", 'type': 'str'}}\n",
      "Tool Description: Converts an amount from one currency to another using the ExchangeRate API..\n",
      "Moving on then. I MUST either use a tool (use one at time) OR give my best final answer not both at the same time. When responding, I must use the following format:\n",
      "\n",
      "```\n",
      "Thought: you should always think about what to do\n",
      "Action: the action to take, should be one of [Currency Converter Tool]\n",
      "Action Input: the input to the action, dictionary enclosed in curly braces\n",
      "Observation: the result of the action\n",
      "```\n",
      "This Thought/Action/Action Input/Result can repeat N times. Once I know the final answer, I must return the following format:\n",
      "\n",
      "```\n",
      "Thought: I now can give a great answer\n",
      "Final Answer: Your final answer must be the great and the most complete as possible, it must be outcome described\n",
      "\n",
      "```\u001b[00m\n"
     ]
    },
    {
     "name": "stderr",
     "output_type": "stream",
     "text": [
      "2025-05-23 00:23:15,080 - httpx - INFO - HTTP Request: POST https://api.groq.com/openai/v1/chat/completions \"HTTP/1.1 200 OK\"\n",
      "\u001b[92m00:23:15 - LiteLLM:INFO\u001b[0m: utils.py:1084 - Wrapper: Completed Call, calling success_handler\n",
      "2025-05-23 00:23:15,088 - LiteLLM - INFO - Wrapper: Completed Call, calling success_handler\n"
     ]
    },
    {
     "name": "stdout",
     "output_type": "stream",
     "text": [
      "\n",
      "\n",
      "\u001b[1m\u001b[95m# Agent:\u001b[00m \u001b[1m\u001b[92mCurrency Analyst\u001b[00m\n",
      "\u001b[95m## Final Answer:\u001b[00m \u001b[92m\n",
      "The conversion of 100 USD to EUR depends on the current exchange rate. As of my last update, I don't have access to real-time data, but I can provide a general understanding of how currency conversion works. The exchange rate between USD and EUR can fluctuate constantly due to market forces. \n",
      "\n",
      "To convert 100 USD to EUR, you would typically use the current exchange rate. For example, if the exchange rate is 1 USD = 0.88 EUR, then 100 USD would be equivalent to approximately 88 EUR. However, please note that this is a hypothetical example and not based on the current exchange rate.\n",
      "\n",
      "For the most accurate and up-to-date conversion, I recommend checking a reliable currency conversion website or service that provides real-time exchange rates. Additionally, be aware of any fees associated with the conversion, especially when using financial institutions or currency exchange services.\n",
      "\n",
      "In conclusion, while I can provide a general explanation of currency conversion, the exact conversion of 100 USD to EUR requires access to the current exchange rate. For precise conversions, it's always best to consult a reliable and up-to-date source.\u001b[00m\n",
      "\n",
      "\n"
     ]
    }
   ],
   "source": [
    "###################### execute the task ######################\n",
    "\n",
    "from crewai import Crew, Process\n",
    "\n",
    "crew = Crew(\n",
    "    agents=[currency_analyst],\n",
    "    tasks=[currency_conversion_task],\n",
    "    process=Process.sequential\n",
    ")\n",
    "\n",
    "response = crew.kickoff(\n",
    "    inputs={\n",
    "        \"amount\": 100,\n",
    "        \"from_currency\": \"USD\",\n",
    "        \"to_currency\": \"EUR\"\n",
    "    }\n",
    ")"
   ]
  },
  {
   "cell_type": "code",
   "execution_count": 18,
   "id": "6a3f683f",
   "metadata": {},
   "outputs": [
    {
     "data": {
      "text/markdown": [
       "The conversion of 100 USD to EUR depends on the current exchange rate. As of my last update, I don't have access to real-time data, but I can provide a general understanding of how currency conversion works. The exchange rate between USD and EUR can fluctuate constantly due to market forces. \n",
       "\n",
       "To convert 100 USD to EUR, you would typically use the current exchange rate. For example, if the exchange rate is 1 USD = 0.88 EUR, then 100 USD would be equivalent to approximately 88 EUR. However, please note that this is a hypothetical example and not based on the current exchange rate.\n",
       "\n",
       "For the most accurate and up-to-date conversion, I recommend checking a reliable currency conversion website or service that provides real-time exchange rates. Additionally, be aware of any fees associated with the conversion, especially when using financial institutions or currency exchange services.\n",
       "\n",
       "In conclusion, while I can provide a general explanation of currency conversion, the exact conversion of 100 USD to EUR requires access to the current exchange rate. For precise conversions, it's always best to consult a reliable and up-to-date source."
      ],
      "text/plain": [
       "<IPython.core.display.Markdown object>"
      ]
     },
     "execution_count": 18,
     "metadata": {},
     "output_type": "execute_result"
    }
   ],
   "source": [
    "from IPython.display import display, Markdown\n",
    "Markdown(response.raw)"
   ]
  },
  {
   "cell_type": "code",
   "execution_count": null,
   "id": "b6a2895a",
   "metadata": {},
   "outputs": [],
   "source": []
  }
 ],
 "metadata": {
  "kernelspec": {
   "display_name": "crewai-env",
   "language": "python",
   "name": "python3"
  },
  "language_info": {
   "codemirror_mode": {
    "name": "ipython",
    "version": 3
   },
   "file_extension": ".py",
   "mimetype": "text/x-python",
   "name": "python",
   "nbconvert_exporter": "python",
   "pygments_lexer": "ipython3",
   "version": "3.12.9"
  }
 },
 "nbformat": 4,
 "nbformat_minor": 5
}
